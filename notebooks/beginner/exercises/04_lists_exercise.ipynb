{
 "cells": [
  {
   "cell_type": "markdown",
   "metadata": {},
   "source": [
    "# 1. Fill the missing pieces\n",
    "Fill the `____` parts of the code below."
   ]
  },
  {
   "cell_type": "code",
   "execution_count": 1,
   "metadata": {},
   "outputs": [],
   "source": [
    "# Let's create an empty list\n",
    "my_list = []\n",
    "\n",
    "# Let's add some values\n",
    "my_list.append(\"Python\")\n",
    "my_list.append(\"is ok\")\n",
    "my_list.append(\"sometimes\")\n",
    "\n",
    "# Let's remove 'sometimes'\n",
    "my_list.remove(\"sometimes\")\n",
    "\n",
    "# Let's change the second item\n",
    "my_list[1] = \"is neat\""
   ]
  },
  {
   "cell_type": "code",
   "execution_count": 2,
   "metadata": {
    "editable": false
   },
   "outputs": [],
   "source": [
    "# Let's verify that it's correct\n",
    "assert my_list == [\"Python\", \"is neat\"]"
   ]
  },
  {
   "cell_type": "markdown",
   "metadata": {},
   "source": [
    "# 2. Create a new list without modifiying the original one\n"
   ]
  },
  {
   "cell_type": "code",
   "execution_count": 10,
   "metadata": {
    "editable": false
   },
   "outputs": [],
   "source": [
    "original = [\"I\", \"am\", \"learning\", \"hacking\", \"in\"]"
   ]
  },
  {
   "cell_type": "code",
   "execution_count": 15,
   "metadata": {},
   "outputs": [],
   "source": [
    "# Your implementation here\n",
    "modified = list(original)\n",
    "modified[3] = \"lists\"\n",
    "modified.append(\"Python\")"
   ]
  },
  {
   "cell_type": "code",
   "execution_count": 16,
   "metadata": {
    "editable": false
   },
   "outputs": [],
   "source": [
    "assert original == [\"I\", \"am\", \"learning\", \"hacking\", \"in\"]\n",
    "assert modified == [\"I\", \"am\", \"learning\", \"lists\", \"in\", \"Python\"]"
   ]
  },
  {
   "cell_type": "markdown",
   "metadata": {},
   "source": [
    "# 3. Create a merged sorted list"
   ]
  },
  {
   "cell_type": "code",
   "execution_count": 22,
   "metadata": {
    "editable": false
   },
   "outputs": [],
   "source": [
    "list1 = [6, 12, 5]\n",
    "list2 = [6.2, 0, 14, 1]\n",
    "list3 = [0.9]"
   ]
  },
  {
   "cell_type": "code",
   "execution_count": 23,
   "metadata": {},
   "outputs": [
    {
     "ename": "AttributeError",
     "evalue": "'NoneType' object has no attribute 'extend'",
     "output_type": "error",
     "traceback": [
      "\u001b[1;31m---------------------------------------------------------------------------\u001b[0m",
      "\u001b[1;31mAttributeError\u001b[0m                            Traceback (most recent call last)",
      "Cell \u001b[1;32mIn[23], line 4\u001b[0m\n\u001b[0;32m      2\u001b[0m my_list \u001b[38;5;241m=\u001b[39m []\n\u001b[0;32m      3\u001b[0m my_list \u001b[38;5;241m=\u001b[39m my_list\u001b[38;5;241m.\u001b[39mextend(list1)\n\u001b[1;32m----> 4\u001b[0m my_list \u001b[38;5;241m=\u001b[39m \u001b[43mmy_list\u001b[49m\u001b[38;5;241;43m.\u001b[39;49m\u001b[43mextend\u001b[49m(list2)\n\u001b[0;32m      5\u001b[0m my_list \u001b[38;5;241m=\u001b[39m my_list\u001b[38;5;241m.\u001b[39mextend(list3)\n\u001b[0;32m      7\u001b[0m my_list\u001b[38;5;241m.\u001b[39msort(reverse\u001b[38;5;241m=\u001b[39m\u001b[38;5;28;01mTrue\u001b[39;00m)\n",
      "\u001b[1;31mAttributeError\u001b[0m: 'NoneType' object has no attribute 'extend'"
     ]
    }
   ],
   "source": [
    "# Your implementation here\n",
    "my_list = []\n",
    "my_list = my_list.extend(list1)\n",
    "my_list = my_list.extend(list2)\n",
    "my_list = my_list.extend(list3)\n",
    "\n",
    "my_list.sort(reverse=True)"
   ]
  },
  {
   "cell_type": "code",
   "execution_count": null,
   "metadata": {
    "editable": false
   },
   "outputs": [],
   "source": [
    "print(my_list)\n",
    "assert my_list == [14, 12, 6.2, 6, 5, 1, 0.9, 0]"
   ]
  }
 ],
 "metadata": {
  "kernelspec": {
   "display_name": "Python 3",
   "language": "python",
   "name": "python3"
  },
  "language_info": {
   "codemirror_mode": {
    "name": "ipython",
    "version": 3
   },
   "file_extension": ".py",
   "mimetype": "text/x-python",
   "name": "python",
   "nbconvert_exporter": "python",
   "pygments_lexer": "ipython3",
   "version": "3.13.2"
  }
 },
 "nbformat": 4,
 "nbformat_minor": 2
}
